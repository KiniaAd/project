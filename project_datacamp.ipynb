{
 "cells": [
  {
   "cell_type": "markdown",
   "id": "961da56e",
   "metadata": {},
   "source": [
    "DataCamp project: \"Creating Functions to Register App Users\""
   ]
  },
  {
   "cell_type": "markdown",
   "id": "2d915951-4dbd-49ac-bc0d-8ae3df53f586",
   "metadata": {},
   "source": [
    "Background:\n",
    "\n",
    "You are a junior developer working in a small start-up. Your managers have asked you to develop a new account registration system for a mobile app. The system must validate user input on the sign-up form before creating an account. \n",
    "\n",
    "The previous junior developer wrote some helper functions that validate the name, email, and password. Use these functions to register users, store their data, and implement some error handling! These have been imported into the workspace for you. They will be a great help to you when registering the user, but first you have to understand what the function does! Inspect the docstrings of each of the helper functions: `validate_name`, `validate_email` and `validate_password`."
   ]
  },
  {
   "cell_type": "code",
   "execution_count": 18,
   "id": "89e2bca9-7ff6-4259-b33a-a85607997083",
   "metadata": {
    "executionCancelledAt": null,
    "executionTime": 52,
    "lastExecutedAt": 1728235202004,
    "lastExecutedByKernel": "a387188c-2ef8-4ae2-830a-34f378a60794",
    "lastScheduledRunId": null,
    "lastSuccessfullyExecutedCode": "# Re-run this cell and examine the docstring of each function\nfrom python_functions import validate_name, validate_email, validate_password, top_level_domains\n\nprint(\"validate_name\\n\")\nprint(validate_name.__doc__)\nprint(\"--------------------\\n\")\n\nprint(\"validate_email\\n\")\nprint(validate_email.__doc__) \nprint(\"--------------------\\n\")\n\nprint(\"validate_password\\n\")\nprint(validate_password.__doc__)\n\n# The top level domains variable is used in validate_email to approve only certain email domains\nprint(top_level_domains)",
    "outputsMetadata": {
     "0": {
      "height": 616,
      "type": "stream"
     }
    }
   },
   "outputs": [
    {
     "name": "stdout",
     "output_type": "stream",
     "text": [
      "validate_name\n",
      "\n",
      " Checks that the name is greater than two characters and is a string data type.\n",
      "\n",
      " Args:\n",
      "    name (str): The inputted name from the user.\n",
      "\n",
      " Returns:\n",
      "    bool: True if the name passes the check, False otherwise.\n",
      "    \n",
      "--------------------\n",
      "\n",
      "validate_email\n",
      "\n",
      " Checks that the email address is in a valid format, has a username greater than 1 character, an '@' symbol, and an allowed domain that is in the `top_level_domains` variable.\n",
      "\n",
      "  Args:\n",
      "    email (str): The inputted email from the user.\n",
      "\n",
      "  Returns:\n",
      "    bool: True if the email passes the checks, False otherwise.\n",
      "    \n",
      "--------------------\n",
      "\n",
      "validate_password\n",
      "\n",
      " Checks that the password is strong enough. It should include a capital letter, a number between 0-9 and be greater than 8 characters.\n",
      "\n",
      "  Args:\n",
      "    password (str): The inputted password from the user.\n",
      "\n",
      "  Returns:\n",
      "    bool: True if the password passes the checks, False otherwise.\n",
      "    \n",
      "['.org', '.net', '.edu', '.ac', '.uk', '.com']\n"
     ]
    }
   ],
   "source": [
    "# Re-run this cell and examine the docstring of each function\n",
    "from python_functions import validate_name, validate_email, validate_password, top_level_domains\n",
    "\n",
    "print(\"validate_name\\n\")\n",
    "print(validate_name.__doc__)\n",
    "print(\"--------------------\\n\")\n",
    "\n",
    "print(\"validate_email\\n\")\n",
    "print(validate_email.__doc__) \n",
    "print(\"--------------------\\n\")\n",
    "\n",
    "print(\"validate_password\\n\")\n",
    "print(validate_password.__doc__)\n",
    "\n",
    "# The top level domains variable is used in validate_email to approve only certain email domains\n",
    "print(top_level_domains)"
   ]
  },
  {
   "cell_type": "code",
   "execution_count": 19,
   "id": "05f8c17e-84b8-420c-84f1-af7015efbc8e",
   "metadata": {
    "executionCancelledAt": null,
    "executionTime": 51,
    "lastExecutedAt": 1728235202056,
    "lastExecutedByKernel": "a387188c-2ef8-4ae2-830a-34f378a60794",
    "lastScheduledRunId": null,
    "lastSuccessfullyExecutedCode": "# Start coding here\n# Use as many cells as you need"
   },
   "outputs": [],
   "source": [
    "# Start coding here\n",
    "# Use as many cells as you need"
   ]
  },
  {
   "cell_type": "code",
   "execution_count": 20,
   "id": "534be6b5-4907-4a4a-828d-ef4fbff17aa2",
   "metadata": {
    "executionCancelledAt": null,
    "executionTime": 51,
    "lastExecutedAt": 1728235202107,
    "lastExecutedByKernel": "a387188c-2ef8-4ae2-830a-34f378a60794",
    "lastScheduledRunId": null,
    "lastSuccessfullyExecutedCode": "def validate_user(name, email, password):\n    if validate_name(name) == False:\n        raise ValueError(\"Invalid name, needed more than two characters\")\n    if validate_email(email) == False:\n        raise ValueError(\"Invalid email\")\n    if validate_password(password) == False:\n        raise ValueError(\"Invalid password, must contains min 8 characters, capital letter and a number\")\n        \n    return True\n"
   },
   "outputs": [],
   "source": [
    "# Function to validate the user's input; name, email and password\n",
    "# If the validation is correct the function returns True, \n",
    "# if not there will be printed specific ValueError\n",
    "def validate_user(name, email, password):\n",
    "    if validate_name(name) == False:\n",
    "        raise ValueError(\"Invalid name, needed more than two characters\")\n",
    "    if validate_email(email) == False:\n",
    "        raise ValueError(\"Invalid email\")\n",
    "    if validate_password(password) == False:\n",
    "        raise ValueError(\"Invalid password, must contains min 8 characters, capital letter and a number\")\n",
    "        \n",
    "    return True\n"
   ]
  },
  {
   "cell_type": "code",
   "execution_count": 21,
   "id": "8d948051-7b9f-4855-be1d-45b011f8212c",
   "metadata": {
    "executionCancelledAt": null,
    "executionTime": 52,
    "lastExecutedAt": 1728235202159,
    "lastExecutedByKernel": "a387188c-2ef8-4ae2-830a-34f378a60794",
    "lastScheduledRunId": null,
    "lastSuccessfullyExecutedCode": "def register_user(name, email, password):\n    if validate_user(name, email, password) == True:\n        user ={'name':name, \n               'email':email, \n               'password':password\n              }\n        \n        return user\n    \n    return False"
   },
   "outputs": [],
   "source": [
    "# Function to register the user's input\n",
    "# Calls the function validate_user and\n",
    "# creates new dictionary of user's input: name, email, password\n",
    "# If validation is not correct function returns False\n",
    "def register_user(name, email, password):\n",
    "    if validate_user(name, email, password) == True:\n",
    "        user ={'name':name, \n",
    "               'email':email, \n",
    "               'password':password\n",
    "              }\n",
    "        \n",
    "        return user\n",
    "    \n",
    "    return False"
   ]
  }
 ],
 "metadata": {
  "editor": "DataCamp Workspace",
  "kernelspec": {
   "display_name": "Python 3 (ipykernel)",
   "language": "python",
   "name": "python3"
  },
  "language_info": {
   "codemirror_mode": {
    "name": "ipython",
    "version": 3
   },
   "file_extension": ".py",
   "mimetype": "text/x-python",
   "name": "python",
   "nbconvert_exporter": "python",
   "pygments_lexer": "ipython3",
   "version": "3.9.13"
  }
 },
 "nbformat": 4,
 "nbformat_minor": 5
}
